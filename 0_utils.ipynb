{
 "cells": [
  {
   "cell_type": "code",
   "execution_count": null,
   "metadata": {},
   "outputs": [],
   "source": [
    "#gamFit<-functin(expMat,genes, # genes to testcelltime){\n",
    "def gamFit(expMat,genes,celltime):\n",
    "    #expMat=expDat[t1C.index]\n",
    "    #genes=expDat.index\n",
    "    #celltime=t1C\n",
    "\n",
    "    genes2=(set(genes) & set(expMat.index))\n",
    "    def abcd(input_data):\n",
    "        z=pd.DataFrame()\n",
    "        z[\"z\"]=input_data.values\n",
    "        z[\"t\"]=celltime.values\n",
    "        z.index=expMat.columns\n",
    "        X=celltime.values.reshape((celltime.shape[0],1))\n",
    "        y=z[\"z\"].values\n",
    "\n",
    "        gam=GAM(l(0)).fit(X,y)\n",
    "        p=gam.statistics_['p_values'][0]\n",
    "        return p\n",
    "    ans=expMat.loc[genes2][celltime.index].apply(abcd,axis=1)\n",
    "    return ans"
   ]
  },
  {
   "cell_type": "code",
   "execution_count": null,
   "metadata": {},
   "outputs": [],
   "source": [
    "def grnKsmooth(expDat,cells,BW=.25):\n",
    "    #cells=ccells\n",
    "    #BW=.1\n",
    "    BW=min(BW, max(cells[\"pseudotime\"])-min(cells[\"pseudotime\"])/10)\n",
    "    t1=pd.DataFrame(cells[\"pseudotime\"])\n",
    "    t1.index=cells[\"cell_name\"]\n",
    "    t1=t1.sort_values(by='pseudotime', ascending=True)\n",
    "    #expDat.iloc[t1.index]\n",
    "    expDat=expDat[list(t1.index)]\n",
    "\n",
    "    ans=pd.DataFrame(columns=np.arange(expDat.shape[1]))\n",
    "    for i in np.arange(expDat.shape[0]):\n",
    "        y=expDat.iloc[i].values\n",
    "        x=t1[\"pseudotime\"].values\n",
    "        fd = FDataGrid(sample_points=[x],data_matrix=[y])\n",
    "        smoother = ks.NadarayaWatsonSmoother(smoothing_parameter=BW)\n",
    "        smoothed = smoother.fit_transform(fd)\n",
    "        a=smoothed.data_matrix.round(10)\n",
    "        each_row=[]\n",
    "        for j in a:\n",
    "            for k in j:\n",
    "                for l in k:\n",
    "                    each_row.append(l)\n",
    "        ans=pd.concat([ans,pd.DataFrame(each_row).T])\n",
    "\n",
    "\n",
    "    ans.index=expDat.index\n",
    "    ans.columns=expDat.columns\n",
    "    return ans"
   ]
  }
 ],
 "metadata": {
  "kernelspec": {
   "display_name": "Python 3",
   "language": "python",
   "name": "python3"
  },
  "language_info": {
   "codemirror_mode": {
    "name": "ipython",
    "version": 3
   },
   "file_extension": ".py",
   "mimetype": "text/x-python",
   "name": "python",
   "nbconvert_exporter": "python",
   "pygments_lexer": "ipython3",
   "version": "3.8.5"
  }
 },
 "nbformat": 4,
 "nbformat_minor": 4
}
