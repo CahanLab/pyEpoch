{
 "cells": [
  {
   "cell_type": "code",
   "execution_count": 5,
   "id": "87f40c6a-96d6-4768-91f0-c87a2227ae84",
   "metadata": {},
   "outputs": [],
   "source": [
    "import numpy as np\n",
    "import pandas as pd\n",
    "import scanpy as sc\n",
    "import pyEpoch as Epoch"
   ]
  },
  {
   "cell_type": "code",
   "execution_count": 6,
   "id": "7a6ce4f1-27f2-4146-bf37-e79425ab8619",
   "metadata": {},
   "outputs": [
    {
     "name": "stdout",
     "output_type": "stream",
     "text": [
      "scanpy==1.9.0 anndata==0.8.0 umap==0.5.2 numpy==1.21.5 scipy==1.7.3 pandas==1.3.5 scikit-learn==1.0.2 statsmodels==0.13.2 python-igraph==0.9.9 pynndescent==0.5.6\n",
      "normalizing by total count per cell\n",
      "    finished (0:00:00): normalized adata.X and added    'n_counts', counts per cell before normalization (adata.obs)\n"
     ]
    },
    {
     "name": "stderr",
     "output_type": "stream",
     "text": [
      " /Users/wenwen/opt/anaconda3/envs/cahanlab/lib/python3.7/site-packages/anndata/_core/anndata.py:121: ImplicitModificationWarning:Transforming to str index.\n"
     ]
    }
   ],
   "source": [
    "sc.settings.verbosity = 3             # verbosity: errors (0), warnings (1), info (2), hints (3)\n",
    "sc.logging.print_header()\n",
    "sc.settings.set_figure_params(dpi=80, facecolor='white')\n",
    "adata=sc.read_loom(\"adMuscle_E12_DPT_071919.loom\",sparse=False) #adata matrix cannot be sparse\n",
    "\n",
    "sc.pp.normalize_per_cell(adata)\n",
    "sc.pp.log1p(adata)\n",
    "sc.pp.scale(adata, max_value=10)\n",
    "\n",
    "mmTFs=pd.read_csv(\"mmTFs_epoch.csv\")\n",
    "# mmTFs=list(mmTFs[\"mmTFs\"].values)"
   ]
  },
  {
   "cell_type": "code",
   "execution_count": 9,
   "id": "f3d89f2d-1eb3-49ef-b847-9263c61230e6",
   "metadata": {},
   "outputs": [],
   "source": [
    "def crossweight(adata, lag, minimum, maximum, symmetric_filter=False, weightThresh=0):\n",
    "\n",
    "    grnDF = adata.uns['grnDF'].copy()\n",
    "\n",
    "    expDat = makeExpMat(adata)\n",
    "    #dgenes = adata.uns['dgenes'].copy()\n",
    "    cells = adata.uns['cells'].index.tolist()\n",
    "\n",
    "    expDat = expDat[cells]\n",
    "\n",
    "    # genes=adata.var.index\n",
    "    # expDat=pd.DataFrame(adata.X).T\n",
    "    # expDat.columns=adata.obs.index\n",
    "    # expDat.index=genes\n",
    "    # expDat=expDat.loc[expDat.sum(axis=1)!=0]\n",
    "    # expSmoothed=expDat\n",
    "\n",
    "    \n",
    "    lag=math.floor(len(expDat.columns)/5)\n",
    "    minimum=math.ceil(len(expDat.columns)/50)\n",
    "    maximum=math.floor(len(expDat.columns)/12)\n",
    "    offset=grnDF.apply(cross_corr,axis=1,expSmoothed=expDat,lag=lag)\n",
    "    #print(offset)\n",
    "    grnDF[\"offset\"]=offset\n",
    "    weighted_scores=[]\n",
    "    for i in np.arange(grnDF.shape[0]):\n",
    "        new=score_offset(grnDF[\"zscore\"][i],grnDF[\"offset\"][i],expDat)\n",
    "        weighted_scores.append(new)\n",
    "    grnDF[\"weighted_score\"]=weighted_scores\n",
    "    grnDF = grnDF[grnDF[\"weighted_score\"]>weightThresh]\n",
    "    adata.uns[\"grnDF\"]=grnDF\n",
    "    print(\"Done. Cross-weighted and updated GRN stored in .uns['grnDF'].\")\n",
    "    return adata"
   ]
  },
  {
   "cell_type": "code",
   "execution_count": 10,
   "id": "e0e1277c-2463-43da-a0e3-7e8adb3bcd39",
   "metadata": {},
   "outputs": [
    {
     "name": "stdout",
     "output_type": "stream",
     "text": [
      "starting gamma...\n",
      "Done. Dynamic pvalues stored in .uns['genes']. Ordered cells and pseudotime stored in .uns['cells'].\n",
      "Dynamic genes stored in .uns['dgenes'].\n",
      "Done. Static GRN stored in .uns['grnDF']\n"
     ]
    },
    {
     "ename": "TypeError",
     "evalue": "crossweight() missing 3 required positional arguments: 'lag', 'minimum', and 'maximum'",
     "output_type": "error",
     "traceback": [
      "\u001b[0;31m---------------------------------------------------------------------------\u001b[0m",
      "\u001b[0;31mTypeError\u001b[0m                                 Traceback (most recent call last)",
      "\u001b[0;32m/var/folders/hc/0xmbh5bn66d88xs_1l5fqk440000gn/T/ipykernel_5022/3257111433.py\u001b[0m in \u001b[0;36m<module>\u001b[0;34m\u001b[0m\n\u001b[1;32m      7\u001b[0m \u001b[0;31m# Reconstruct and perform optional crossweighting\u001b[0m\u001b[0;34m\u001b[0m\u001b[0;34m\u001b[0m\u001b[0;34m\u001b[0m\u001b[0m\n\u001b[1;32m      8\u001b[0m \u001b[0madata\u001b[0m\u001b[0;34m=\u001b[0m\u001b[0mEpoch\u001b[0m\u001b[0;34m.\u001b[0m\u001b[0mreconstructGRN\u001b[0m\u001b[0;34m(\u001b[0m\u001b[0madata\u001b[0m\u001b[0;34m,\u001b[0m\u001b[0mmmTFs\u001b[0m\u001b[0;34m,\u001b[0m\u001b[0mzThresh\u001b[0m\u001b[0;34m=\u001b[0m\u001b[0;36m3\u001b[0m\u001b[0;34m)\u001b[0m\u001b[0;34m\u001b[0m\u001b[0;34m\u001b[0m\u001b[0m\n\u001b[0;32m----> 9\u001b[0;31m \u001b[0madata\u001b[0m\u001b[0;34m=\u001b[0m\u001b[0mcrossweight\u001b[0m\u001b[0;34m(\u001b[0m\u001b[0madata\u001b[0m\u001b[0;34m)\u001b[0m\u001b[0;34m\u001b[0m\u001b[0;34m\u001b[0m\u001b[0m\n\u001b[0m",
      "\u001b[0;31mTypeError\u001b[0m: crossweight() missing 3 required positional arguments: 'lag', 'minimum', and 'maximum'"
     ]
    }
   ],
   "source": [
    "#Find Dynamically Expressed Genes\n",
    "adata=Epoch.findDynGenes(adata, group_column=\"leiden\",pseudotime_column=\"dpt_pseudotime\")\n",
    "\n",
    "# Optional: to analyze a subset of the data along a particular path you can specify the path\n",
    "# adata=Epoch.findDynGenes(adata, group_column=\"leiden\", path=['1','0'], pseudotime_column=\"dpt_pseudotime\")\n",
    "\n",
    "# Reconstruct and perform optional crossweighting\n",
    "adata=Epoch.reconstructGRN(adata,mmTFs,zThresh=3)\n",
    "adata=crossweight(adata)"
   ]
  },
  {
   "cell_type": "code",
   "execution_count": null,
   "id": "d6d39a14-df03-44bf-9492-d72535bb3b0e",
   "metadata": {},
   "outputs": [],
   "source": []
  },
  {
   "cell_type": "code",
   "execution_count": null,
   "id": "8a2f06c6-0d98-4ac0-b395-cc2e5742db44",
   "metadata": {},
   "outputs": [],
   "source": []
  }
 ],
 "metadata": {
  "kernelspec": {
   "display_name": "Python 3 (ipykernel)",
   "language": "python",
   "name": "python3"
  },
  "language_info": {
   "codemirror_mode": {
    "name": "ipython",
    "version": 3
   },
   "file_extension": ".py",
   "mimetype": "text/x-python",
   "name": "python",
   "nbconvert_exporter": "python",
   "pygments_lexer": "ipython3",
   "version": "3.7.13"
  }
 },
 "nbformat": 4,
 "nbformat_minor": 5
}
