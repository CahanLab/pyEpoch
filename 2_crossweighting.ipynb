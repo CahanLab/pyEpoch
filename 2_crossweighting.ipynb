{
 "cells": [
  {
   "cell_type": "code",
   "execution_count": null,
   "metadata": {},
   "outputs": [],
   "source": [
    "def crossweight(grnDF, expSmoothed,lag=math.floor(len(expSmoothed.columns)/5),minimum=math.ceil(len(expSmoothed.columns)/50),maximum=math.floor(len(expSmoothed.columns)/12)):\n",
    "    offest=grnDF.apply(cross_corr,axis=1,expSmoothed=exp,lag=lag)\n",
    "    grnDF[\"offset\"]=offset\n",
    "    weighted_scores=[]\n",
    "    for i in np.arange(grnDF.shape[0]):\n",
    "        new=score_offset(grnDF[\"Zscores\"][i],grnDF[\"offset\"][i],mini=minimum,maxi=maximum)\n",
    "        weighted_scores.append(new)\n",
    "    grnDF[\"weighted_score\"]=weighted_scores\n",
    "    return grnDF\n"
   ]
  },
  {
   "cell_type": "code",
   "execution_count": null,
   "metadata": {},
   "outputs": [],
   "source": [
    "def cross_corr(grnDF,expSmoothed,lag):\n",
    "    #grn_row=grnTab\n",
    "    tg=str(grnDF[\"TG\"])\n",
    "    tf=str(grnDF[\"TF\"])\n",
    "    targets=expSmoothed.loc[tg].values\n",
    "    transcription=expSmoothed.loc[tf].values\n",
    "    x = ccf(targets,transcription,lag=lag)\n",
    "    return x"
   ]
  },
  {
   "cell_type": "code",
   "execution_count": null,
   "metadata": {},
   "outputs": [],
   "source": [
    "def ccf(x, y, lag):\n",
    "    result = ss.correlate(y - np.mean(y), x - np.mean(x), method='direct') / (np.std(y) * np.std(x) * len(y))\n",
    "    length = (len(result) - 1) // 2\n",
    "    lo = length - lag\n",
    "    hi = length + (lag + 1)\n",
    "    correlation=result[lo:hi]\n",
    "    lags=np.arange(lo,hi)-length\n",
    "    df=pd.DataFrame()\n",
    "    df[\"lag\"]=lags\n",
    "    df[\"correlation\"]=correlation\n",
    "    df= df.sort_values('correlation',ascending=False)\n",
    "    result= np.mean(df[\"lag\"][0:(math.ceil(2/3)*lag)])\n",
    "    return result"
   ]
  },
  {
   "cell_type": "code",
   "execution_count": null,
   "metadata": {},
   "outputs": [],
   "source": [
    "def score_offset(score,offset,mini=math.ceil(len(expSmoothed.columns)/50),maxi=math.floor(len(expSmoothed.columns)/12)):\n",
    "    if offset<=mini:\n",
    "        res=score\n",
    "    elif offset>maxi:\n",
    "        res=0\n",
    "    else:\n",
    "        #linear weighting scheme according to y=(-1/max-min)+1\n",
    "        weight=-(-offset(maxi-mini))+1\n",
    "        res=score*weight\n",
    "    return res\n",
    "           "
   ]
  }
 ],
 "metadata": {
  "kernelspec": {
   "display_name": "Python 3",
   "language": "python",
   "name": "python3"
  },
  "language_info": {
   "codemirror_mode": {
    "name": "ipython",
    "version": 3
   },
   "file_extension": ".py",
   "mimetype": "text/x-python",
   "name": "python",
   "nbconvert_exporter": "python",
   "pygments_lexer": "ipython3",
   "version": "3.8.5"
  }
 },
 "nbformat": 4,
 "nbformat_minor": 4
}
