{
 "cells": [
  {
   "cell_type": "code",
   "execution_count": null,
   "metadata": {},
   "outputs": [],
   "source": [
    "def compute_betweenness_degree(dynnet,weight_column=\"weighted_score\",directed_graph=False):\n",
    "\n",
    "    keys=list(dynnet.keys())\n",
    "    ranks={}\n",
    "    for i in keys:\n",
    "        ranks[i]=None\n",
    "    for i in list(dynnet.keys()):\n",
    "        df=dynnet[i]\n",
    "        df=df[[\"TF\",\"TG\",weight_column]]\n",
    "        df.columns=[\"TF\",\"TG\",\"weight\"]\n",
    "        df.index=np.arange(df.shape[0])\n",
    "    pagerank_genes=[]\n",
    "    for j in np.arange(df.shape[0]):\n",
    "        a=df.iloc[j]\n",
    "        pagerank_genes.append(a[0])\n",
    "        pagerank_genes.append(a[1])\n",
    "    indexes=np.unique(pagerank_genes, return_index=True)[1]\n",
    "    pagerank_genes=[pagerank_genes[index]for index in sorted(indexes)]  \n",
    "    pagerank_genes\n",
    "    tuples = [tuple(x) for x in df.values]\n",
    "    Gm = igraph.Graph.TupleList(tuples, directed = False, edge_attrs = ['weight'])\n",
    "    betweenness_degree=pd.DataFrame()\n",
    "\n",
    "    betweenness_degree[\"betweenness\"]=Gm.betweenness(directed=False,weights=list(df[\"weight\"]))\n",
    "    n=Gm.vcount()\n",
    "    #Bnorm=2*B/(n*n-3*n+2)\n",
    "    betweenness_degree[\"betweenness\"]=2*betweenness_degree/(n*n-3*n+2)\n",
    "    \n",
    "    betweenness_degree[\"degree\"]=Gm.degree(mode='all',loops='true')\n",
    "    betweenness_degree[\"degree\"]=betweenness_degree[\"degree\"]/(n-1)\n",
    "    \n",
    "    betweenness_degree[\"betweenness*degree\"]=betweenness_degree[\"betweenness\"]*betweenness_degree[\"degree\"]\n",
    "    betweenness_degree.index=pagerank_genes\n",
    "    betweenness_degree[\"gene\"]=betweenness_degree.index\n",
    "    betweeenness_degree=betweenness_degree[[\"gene\",\"betweenness\",\"degree\",\"betweenness*degree\"]]\n",
    "    adata.uns[\"betweenness_degree\"]=betweenness_degree\n",
    "    return adata"
   ]
  }
 ],
 "metadata": {
  "kernelspec": {
   "display_name": "compstemcell",
   "language": "python",
   "name": "compstemcell"
  },
  "language_info": {
   "codemirror_mode": {
    "name": "ipython",
    "version": 3
   },
   "file_extension": ".py",
   "mimetype": "text/x-python",
   "name": "python",
   "nbconvert_exporter": "python",
   "pygments_lexer": "ipython3",
   "version": "3.8.5"
  }
 },
 "nbformat": 4,
 "nbformat_minor": 4
}
